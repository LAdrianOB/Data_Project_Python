{
 "cells": [
  {
   "cell_type": "markdown",
   "id": "5bb80d2b",
   "metadata": {},
   "source": [
    "### El siguiente script es el que usé para generar los enunciados en markdown. Está aquí solo como referencia, no es necesario ejecutarlo."
   ]
  },
  {
   "cell_type": "code",
   "execution_count": null,
   "id": "67f5bdfb",
   "metadata": {},
   "outputs": [],
   "source": [
    "#import nbformat as nbf\n",
    "\n",
    "# Leer el archivo de texto\n",
    "    #with open(\"enunciados.txt\", \"r\", encoding=\"utf-8\") as f:\n",
    "    #    lines = f.read().splitlines()\n",
    "\n",
    "# Crear un nuevo notebook\n",
    "    #nb = nbf.v4.new_notebook()\n",
    "\n",
    "# Añadir cada línea como una celda Markdown\n",
    "    #for i, line in enumerate(lines, start=1):\n",
    "    #    if line.strip():  # si no está vacía\n",
    "    #        nb.cells.append(nbf.v4.new_markdown_cell(f\"### Enunciado {i}\\n{line}\"))\n",
    "\n",
    "# Guardar como .ipynb\n",
    "    #with open(\"Data_project_Python.ipynb\", \"w\", encoding=\"utf-8\") as f:\n",
    "    #    nbf.write(nb, f)"
   ]
  },
  {
   "cell_type": "markdown",
   "id": "e89a8172",
   "metadata": {},
   "source": [
    "### Enunciado 1\n",
    "1. Escribe una función que reciba una cadena de texto como parámetro y devuelva un diccionario con las frecuencias de cada letra en la cadena. Los espacios no deben ser considerados."
   ]
  },
  {
   "cell_type": "code",
   "execution_count": null,
   "id": "02ea2fe7",
   "metadata": {},
   "outputs": [],
   "source": [
    "#Pedimos cadena al usuario\n",
    "cadena = (input(\"Ingrese texto: \"))\n",
    "\n",
    "#Definimos funcion\n",
    "def frecuencias_letras(cadena):\n",
    "\n",
    "    #Creamos diccionario vacio\n",
    "    frecuencias = {}\n",
    "\n",
    "    for letra in cadena:\n",
    "        if letra != ' ':\n",
    "            if letra not in frecuencias :\n",
    "                frecuencias[letra] = 1\n",
    "            else:\n",
    "                frecuencias[letra] += 1\n",
    "    return frecuencias\n",
    "\n",
    "#Mostramos resultado\n",
    "print(frecuencias_letras(cadena))"
   ]
  },
  {
   "cell_type": "markdown",
   "id": "7e935cad",
   "metadata": {},
   "source": [
    "### Enunciado 2\n",
    "2. Dada una lista de números, obtén una nueva lista con el doble de cada valor. Usa la función map()"
   ]
  },
  {
   "cell_type": "code",
   "execution_count": null,
   "id": "5a5bd05d",
   "metadata": {},
   "outputs": [
    {
     "name": "stdout",
     "output_type": "stream",
     "text": [
      "Los dobles de la lista son: [2, 4, 6] \n"
     ]
    }
   ],
   "source": [
    "dada = input(\"Entra lista nums separada por comas: \")\n",
    "\n",
    "lista_numeros = [int(x) for x in dada.split(',')] #Recorremos el input y creamos la lista tenieno en cuenta la coma\n",
    "\n",
    "def doblar_valor(nums):\n",
    "\n",
    "    return nums*2\n",
    "    \n",
    "map(doblar_valor, lista_numeros)\n",
    "lista_resultado = list(map(doblar_valor, lista_numeros)) #Convertimos en lista el resultado de la función\n",
    "\n",
    "print(f\"Los dobles de la lista son: {lista_resultado} \")"
   ]
  },
  {
   "cell_type": "markdown",
   "id": "e5c34e7c",
   "metadata": {},
   "source": [
    "### Enunciado 3\n",
    "3. Escribe una función que tome una lista de palabras y una palabra objetivo como parámetros. La función debe devolver una lista con todas las palabras de la lista original que contengan la palabra objetivo."
   ]
  },
  {
   "cell_type": "code",
   "execution_count": null,
   "id": "930d9d32",
   "metadata": {},
   "outputs": [
    {
     "name": "stdout",
     "output_type": "stream",
     "text": [
      "['yellow', 'yolanda']\n"
     ]
    }
   ],
   "source": [
    "recibido = input(\"Entra texto: \")\n",
    "objetivo = input(\"Entra objetivo: \")\n",
    "\n",
    "lista = recibido.split() #La funcion split. ya crea una lista, no hace falta []\n",
    "\n",
    "def comparacion_listas(rec, obj): \n",
    "\n",
    "    listaComparada = []\n",
    "\n",
    "    for palabra in rec: #Por cada palabra buscar si el objetivo se encuentra dentro o no, si es asi\n",
    "                        #añadirla a la nueva lista\n",
    "        if obj in palabra:\n",
    "            listaComparada.append(palabra)\n",
    "\n",
    "    return listaComparada\n",
    "\n",
    "listaFinal = comparacion_listas(lista,objetivo) \n",
    "\n",
    "print(listaFinal)\n",
    "\n",
    "\n",
    "\n",
    "            \n",
    "\n",
    "\n",
    "\n"
   ]
  },
  {
   "cell_type": "markdown",
   "id": "fd93b780",
   "metadata": {},
   "source": [
    "### Enunciado 4\n",
    "4. Genera una función que calcule la diferencia entre los valores de dos listas. Usa la función map()"
   ]
  },
  {
   "cell_type": "code",
   "execution_count": null,
   "id": "1f3e6a88",
   "metadata": {},
   "outputs": [
    {
     "name": "stdout",
     "output_type": "stream",
     "text": [
      "[34, 12, 45, 52, 1]\n"
     ]
    }
   ],
   "source": [
    "lista1=[11,22,13,14,15]\n",
    "lista2=[45,34,58,66,16]\n",
    "\n",
    "def diferencia(num1,num2): #Generemos la función de resta\n",
    "    \n",
    "    r = num2-num1\n",
    "\n",
    "    return r\n",
    "\n",
    "resultaDIF = list(map(diferencia, lista1, lista2)) #Realizamos la funció map para hacer la diferencia y convertir a lista\n",
    "\n",
    "print(resultaDIF)"
   ]
  },
  {
   "cell_type": "markdown",
   "id": "740482a5",
   "metadata": {},
   "source": [
    "### Enunciado 5\n",
    "5. Ecribe una función que tome una lista de números como parámetro y un valor opcional nota_aprobado, que por defecto es 5. La función debe calcular la media de los números en la lista y determinar si la media es mayor o igual que nota aprobado. Si es así, el estado será \"aprobado\", de lo contrario, será \"suspenso\". La función debe devolver una tupla que contenga la media y el estado."
   ]
  },
  {
   "cell_type": "code",
   "execution_count": 10,
   "id": "76d4d9de",
   "metadata": {},
   "outputs": [
    {
     "name": "stdout",
     "output_type": "stream",
     "text": [
      "(5.0, 'aprobado')\n"
     ]
    }
   ],
   "source": [
    "notas=[5,6,4,3,7]\n",
    "\n",
    "def notasClase (numeros,nota_aprobado=5): #Definimos funcion con dos parametros y uno configurado por defecto\n",
    "\n",
    "    media = sum(numeros)/len(numeros)\n",
    "    \n",
    "    if media >= nota_aprobado:\n",
    "        final = \"aprobado\"\n",
    "    else:\n",
    "        final = \"suspendido\"\n",
    "    \n",
    "    return (media, final) #Devolvemos la tupla \n",
    "\n",
    "calificacion = notasClase(notas) #Solo pasamos un parámetro ya que el otro es por defecto\n",
    "print(calificacion)\n",
    "\n"
   ]
  },
  {
   "cell_type": "markdown",
   "id": "bf088660",
   "metadata": {},
   "source": [
    "### Enunciado 6\n",
    "6. Escribe una función que calcule el factorial de un número de manera recursiva."
   ]
  },
  {
   "cell_type": "code",
   "execution_count": 18,
   "id": "ab6970a1",
   "metadata": {},
   "outputs": [
    {
     "name": "stdout",
     "output_type": "stream",
     "text": [
      "120\n"
     ]
    }
   ],
   "source": [
    "def factorial(n):\n",
    "    if n == 0 or n == 1:  # Caso base: factorial de 0 o 1 es 1\n",
    "        return 1\n",
    "    else:\n",
    "        return n * factorial(n - 1)  # Llamada recursiva\n",
    "\n",
    "# Ejemplo:\n",
    "print(factorial(5))  # Salida: 120\n"
   ]
  },
  {
   "cell_type": "markdown",
   "id": "320c25ae",
   "metadata": {},
   "source": [
    "### Enunciado 7 (CORREGIDO)\n",
    "7. Genera una función que convierta una lista de tuplas a una lista de strings. Usa la función map()"
   ]
  },
  {
   "cell_type": "code",
   "execution_count": 4,
   "id": "ea05ba30",
   "metadata": {},
   "outputs": [
    {
     "name": "stdout",
     "output_type": "stream",
     "text": [
      "['word1 word2 Word7', 'word3 word4', 'word5', 'Word8']\n"
     ]
    }
   ],
   "source": [
    "lista_tuplas = [(\"word1\", \"word2\", \"Word7\"),(\"word3\", \"word4\"),(\"word5\",),(\"Word8\",)]\n",
    "\n",
    "# Función que une los elementos de la tupla en un solo string\n",
    "def conversion(tupla):\n",
    "    return \" \".join(tupla)\n",
    "\n",
    "# Aplicamos map para convertir cada tupla en un string\n",
    "lista_strings = list(map(conversion, lista_tuplas))\n",
    "\n",
    "print(lista_strings)\n"
   ]
  },
  {
   "cell_type": "markdown",
   "id": "ab6aeb53",
   "metadata": {},
   "source": [
    "### Enunciado 8\n",
    "8. Escribe un programa que pida al usuario dos números e intente dividirlos. Si el usuario ingresa un valor no numérico o intenta dividir por cero, maneja esas excepciones de manera adecuada. Asegúrate de mostrar un mensaje indicando si la división fue exitosa o no."
   ]
  },
  {
   "cell_type": "code",
   "execution_count": null,
   "id": "9caa68df",
   "metadata": {},
   "outputs": [
    {
     "name": "stdout",
     "output_type": "stream",
     "text": [
      "Ambos argumentos tiene un valor inapropiado.\n"
     ]
    }
   ],
   "source": [
    "\n",
    "\n",
    "def es_entero(num):  #Creamos funcion para saber si se pueden convertir a floats lo recibido\n",
    "        try:\n",
    "            float(num)\n",
    "            return True\n",
    "        except ValueError:\n",
    "            return False\n",
    "\n",
    "num1 = (input(\"Entre primer numero: \"))\n",
    "num2 = (input(\"Entre numero para dividir: \"))   \n",
    "\n",
    "if not es_entero(num1) and not es_entero(num2):     #Imprimimos en el caso de que tengamos valuError en las entradas\n",
    "        print(\"Ambos argumentos tiene un valor inapropiado.\")\n",
    "elif not es_entero(num1):\n",
    "        print(\"El primer argumento tiene un valor inapropiado.\")\n",
    "elif not es_entero(num2):\n",
    "        print(\"El segundo argumento tiene un valor inapropiado.\")\n",
    "else:    \n",
    "    try:      #Si las entradas son numericas procedemos excepto cuando tenemos una division entre 0. informamos del resultado\n",
    "        numero1 = float(num1)\n",
    "        numero2 = float(num2)\n",
    "        resultado = numero1/numero2\n",
    "        print(\"El resultado de la división es: \", resultado)\n",
    "\n",
    "    except ZeroDivisionError:\n",
    "     print(\"No es posible dividir entre 0.\")\n",
    "\n",
    "        \n",
    "\n",
    "    "
   ]
  },
  {
   "cell_type": "markdown",
   "id": "a1482f70",
   "metadata": {},
   "source": [
    "### Enunciado 9\n",
    "9. Escribe una función que tome una lista de nombres de mascotas como parámetro y devuelva una nueva listaexcluyendo ciertas mascotas prohibidas en España. La lista de mascotas a excluir es [\"Mapache\", \"Tigre\",\"Serpiente Pitón\", \"Cocodrilo\", \"Oso\"].Usa la función filter()"
   ]
  },
  {
   "cell_type": "code",
   "execution_count": null,
   "id": "a6e80b94",
   "metadata": {},
   "outputs": [
    {
     "name": "stdout",
     "output_type": "stream",
     "text": [
      "['Perro', 'Gato', 'Hamster', 'Loro']\n"
     ]
    }
   ],
   "source": [
    "lista_mascotas = [\"Perro\", \"Gato\", \"Tigre\", \"Hamster\", \"Cocodrilo\", \"Loro\"]\n",
    "lista_prohibida = [\"Mapache\", \"Tigre\", \"Serpiente Pitón\", \"Cocodrilo\", \"Oso\"]\n",
    "\n",
    "\n",
    "\n",
    "def no_prohibida (lista): #Definimos funcion que devuelva un true si la mascota no esta en la lista\n",
    "    return lista not in lista_prohibida\n",
    "\n",
    "resultado = list(filter(no_prohibida,lista_mascotas)) #Construimos lista filtrada\n",
    "print(resultado)"
   ]
  },
  {
   "cell_type": "markdown",
   "id": "23a53ec3",
   "metadata": {},
   "source": [
    "### Enunciado 10\n",
    "10. Escribe una función que reciba una lista de números y calcule su promedio. Si la lista está vacía, lanza una excepción personalizada y maneja el error adecuadamente."
   ]
  },
  {
   "cell_type": "code",
   "execution_count": 9,
   "id": "deec8600",
   "metadata": {},
   "outputs": [
    {
     "name": "stdout",
     "output_type": "stream",
     "text": [
      "El promedio es:  5.2\n"
     ]
    }
   ],
   "source": [
    "entrada = input(\"Ingresa lista separada por comas: \")\n",
    "\n",
    "lista_numeros = [float(x) for x in entrada.split(',')] #Convertimos los datos entrados en numeros para evitar errores al hacer operaciones\n",
    "\n",
    "class lista_vacia(Exception):\n",
    "    pass\n",
    "\n",
    "def promedio(elementos):\n",
    "    if not elementos:\n",
    "        raise lista_vacia(\"La lista enviada está vacía.\")\n",
    "    return sum(elementos) / len(elementos)\n",
    "    \n",
    "try:\n",
    "    resultado = promedio(lista_numeros)\n",
    "    print(\"El promedio es: \", resultado)\n",
    "except lista_vacia as error:\n",
    "    print(error)\n",
    "\n"
   ]
  },
  {
   "cell_type": "markdown",
   "id": "58f96dd2",
   "metadata": {},
   "source": [
    "### Enunciado 11\n",
    "11. Escribe un programa que pida al usuario que introduzca su edad. Si el usuario ingresa un valor no numérico o un valor fuera del rango esperado (por ejemplo, menor que 0 o mayor que 120), maneja las excepciones adecuadamente."
   ]
  },
  {
   "cell_type": "code",
   "execution_count": null,
   "id": "08491630",
   "metadata": {},
   "outputs": [
    {
     "name": "stdout",
     "output_type": "stream",
     "text": [
      "Edad fuera del rango 0-120.\n"
     ]
    }
   ],
   "source": [
    "\n",
    "\n",
    "class not_in_range(Exception):\n",
    "    pass\n",
    "\n",
    "try:\n",
    "    edad = input(\"Entre edad: \")\n",
    "    edad = int(edad)  # Intentamos convertir a int el numero entrado\n",
    "\n",
    "    if edad not in range(0,120): #levantamos excepcion creada fuera de rsango\n",
    "            raise not_in_range(\"Edad fuera del rango 0-120.\")\n",
    "    \n",
    "    print(\"Edad: \", edad, \"año/s\")\n",
    "\n",
    "except ValueError:\n",
    "    print(\"El argumento tiene un valor inapropiado.\")\n",
    "except not_in_range as error:\n",
    "    print(error)\n",
    "\n"
   ]
  },
  {
   "cell_type": "markdown",
   "id": "85727170",
   "metadata": {},
   "source": [
    "### Enunciado 12 (CORREGIDO)\n",
    "12. Genera una función que al recibir una frase devuelva una lista con la longitud de cada palabra. Usa la función map()"
   ]
  },
  {
   "cell_type": "code",
   "execution_count": 5,
   "id": "95b8e4db",
   "metadata": {},
   "outputs": [
    {
     "name": "stdout",
     "output_type": "stream",
     "text": [
      "hola soy adri\n",
      "[4, 3, 4]\n"
     ]
    }
   ],
   "source": [
    "frase = input(\"Escribe una frase: \")\n",
    "frase_dividida  = frase.split(\" \") #Separamos la frase en palabras, utilizando los espacios de separador\n",
    "print(frase)\n",
    "\n",
    "# Función que devuelve la longitud de cada palabra\n",
    "def longitudes(palabra):\n",
    "    return len(palabra)\n",
    "\n",
    "# Aplicamos map para obtener lista de enteros\n",
    "resultado = list(map(longitudes, frase_dividida))\n",
    "\n",
    "print(resultado)"
   ]
  },
  {
   "cell_type": "markdown",
   "id": "bc7aa6ab",
   "metadata": {},
   "source": [
    "### Enunciado 13\n",
    "13. Genera una función la cual, para un conjunto de caracteres, devuelva una lista de tuplas con cada letra en mayúsculas y minúsculas. Las letras no pueden estar repetidas .Usa la función map()"
   ]
  },
  {
   "cell_type": "code",
   "execution_count": 52,
   "id": "a3335255",
   "metadata": {},
   "outputs": [
    {
     "name": "stdout",
     "output_type": "stream",
     "text": [
      "[('a', 'A'), ('d', 'D'), ('r', 'R'), ('i', 'I')]\n"
     ]
    }
   ],
   "source": [
    "caracteres = 'adriii'\n",
    "\n",
    "def convertir(letra):\n",
    "    return (letra.lower(), letra.upper())\n",
    "\n",
    "def quitar_repetidos(cadena): #Quitamos duplicados manteniendo el orden\n",
    "                    \n",
    "    resultado = []\n",
    "    for elemento in cadena: #Creamos una lista donde iremos guardando los elementos e ignorando si se repite uno de ellos\n",
    "        if elemento not in  resultado:\n",
    "            resultado.append(elemento)\n",
    "    return resultado\n",
    "\n",
    "caracteres = quitar_repetidos(caracteres)\n",
    "lista_final = list(map(convertir, caracteres))\n",
    "print(lista_final)\n"
   ]
  },
  {
   "cell_type": "markdown",
   "id": "7dd1e6d4",
   "metadata": {},
   "source": [
    "### Enunciado 14 (CORREGIDO)\n",
    "14. Crea una función que retorne las palabras de una lista de palabras que comience con una letra en especifico. Usa la función filter()"
   ]
  },
  {
   "cell_type": "code",
   "execution_count": 9,
   "id": "955dcfc7",
   "metadata": {},
   "outputs": [
    {
     "name": "stdout",
     "output_type": "stream",
     "text": [
      "['zorro', 'zanahoria']\n"
     ]
    }
   ],
   "source": [
    "lista = [\"zorro\",\"pollo\",\"manzana\",\"zanahoria\",\"pera\"]\n",
    "\n",
    "def comienzo (palabra):\n",
    "\n",
    "    return palabra.startswith(\"z\")\n",
    "\n",
    "resultado = list(filter(comienzo,lista)) \n",
    "\n",
    "print(resultado)"
   ]
  },
  {
   "cell_type": "markdown",
   "id": "24bb4207",
   "metadata": {},
   "source": [
    "### Enunciado 15\n",
    "15. Crea una función lambda que sume 3 a cada número de una lista dada."
   ]
  },
  {
   "cell_type": "code",
   "execution_count": null,
   "id": "f9ff2b4d",
   "metadata": {},
   "outputs": [
    {
     "name": "stdout",
     "output_type": "stream",
     "text": [
      "[8, 7, 6, 5, 4, -2]\n"
     ]
    }
   ],
   "source": [
    "lista = [5,4,3,2,1,-5]\n",
    "\"\"\"Utilizamos una comprensión para hacer más compacta la función ya que utilizamos una lambda\n",
    "como primer elemento escogemos la funcion aplicada a cada elemento de la lista que le daremos\"\"\"\n",
    "\n",
    "listanueva = [(lambda x: x + 3)(x) for x in lista] \n",
    "\n",
    "print(list(listanueva))\n"
   ]
  },
  {
   "cell_type": "markdown",
   "id": "4fb067ad",
   "metadata": {},
   "source": [
    "### Enunciado 16\n",
    "16. Escribe una función que tome una cadena de texto y un número entero n como parámetros y devuelva una lista de todas las palabras que sean más largas que n. Usa la función filter()"
   ]
  },
  {
   "cell_type": "code",
   "execution_count": null,
   "id": "1a11c9b3",
   "metadata": {},
   "outputs": [
    {
     "name": "stdout",
     "output_type": "stream",
     "text": [
      "['Adrian', 'tengo', 'edwfsfdf']\n"
     ]
    }
   ],
   "source": [
    "cadena = \"Hola soy Adrian y tengo 29 años\"\n",
    "n = int(4)\n",
    "\n",
    "def palabras_largas (cadena,entero):\n",
    "    \"\"\" -Creamos una funcion con dos paramentros\n",
    "        -convertimes en lista la cadena de texto entregada para trabajar las palabras por separado\n",
    "        -mediante filter, y una funcion lambda, filtramos que los elementos tengan mas largada que el 2do parametro\n",
    "        -convertimos en lista los elementos filtrados\n",
    "    \"\"\"\n",
    "    lista= cadena.split() #Convertim en una lista de palabras de la cadena\n",
    "\n",
    "    filtrado = filter(lambda elemento: len(elemento) > entero ,lista)\n",
    "\n",
    "    return list(filtrado)\n",
    "\n",
    "resultado = palabras_largas(cadena,n)\n",
    "print(resultado)\n"
   ]
  },
  {
   "cell_type": "markdown",
   "id": "721b58fe",
   "metadata": {},
   "source": [
    "### Enunciado 17\n",
    "17. Crea una función que tome una lista de dígitos y devuelva el número correspondiente. Por ejemplo, [5,7,2] corresponde al número quinientos setenta y dos (572). Usa la función reduce()"
   ]
  },
  {
   "cell_type": "code",
   "execution_count": 47,
   "id": "b2d8c83a",
   "metadata": {},
   "outputs": [
    {
     "name": "stdout",
     "output_type": "stream",
     "text": [
      "5724\n"
     ]
    }
   ],
   "source": [
    "from functools import reduce\n",
    "\n",
    "lista = [5,7,2,4]\n",
    "\"\"\" Primero creamos una funcion siguiendo el modelo que aplica el reduce, es decir, aplica funcion a los dos primers\n",
    "    y luego al resultado y el sigueinte elemento, entonces reducimos con la funcion con nuestro iterable \"\"\"\n",
    "def num_devuelto (x, y):\n",
    "    \n",
    "    return x * 10 + y\n",
    "\n",
    "respuesta = reduce(num_devuelto,lista)\n",
    "print (respuesta)"
   ]
  },
  {
   "cell_type": "markdown",
   "id": "202eaedf",
   "metadata": {},
   "source": [
    "### Enunciado 18\n",
    "18. Escribe un programa en Python que cree una lista de diccionarios que contenga información de estudiantes (nombre, edad, calificación) y use la función filter para extraer a los estudiantes con una calificación mayor o igual a 90. Usa la función filter()"
   ]
  },
  {
   "cell_type": "code",
   "execution_count": null,
   "id": "5d92fbec",
   "metadata": {},
   "outputs": [
    {
     "name": "stdout",
     "output_type": "stream",
     "text": [
      "Alumno excelente son:  {'nombre': 'juan', 'edad': 15, 'calificacion': 90}\n"
     ]
    }
   ],
   "source": [
    "diccionario1 = dict(nombre='juan',edad=15, calificacion=90)\n",
    "diccionario2 = dict(nombre='juana',edad=16, calificacion=45)\n",
    "diccionario3 = dict(nombre='joan',edad=17, calificacion=23)\n",
    "\n",
    "lista = [diccionario1,diccionario2,diccionario3]\n",
    "\n",
    "def calificacion_mayor (diccionario):\n",
    "    return diccionario[\"calificacion\"] >= 90\n",
    "\n",
    "excelentes = list(filter(calificacion_mayor, lista))\n",
    "\n",
    "for diccionario in excelentes:\n",
    "    print(\"Alumno excelente: \", diccionario)\n",
    "\n"
   ]
  },
  {
   "cell_type": "markdown",
   "id": "cca9e798",
   "metadata": {},
   "source": [
    "### Enunciado 19\n",
    "19. Crea una función lambda que filtre los números impares de una lista dada."
   ]
  },
  {
   "cell_type": "code",
   "execution_count": null,
   "id": "25360e13",
   "metadata": {},
   "outputs": [
    {
     "name": "stdout",
     "output_type": "stream",
     "text": [
      "[3, 5, 7, 9, 9]\n"
     ]
    }
   ],
   "source": [
    "lista = [2,3,5,4,6,7,9,10,9]\n",
    "\"\"\" Generamos una funcion lambda para comprobar que el producto de la division de los parametros \n",
    "de la lista entre 2 sea diferente de 0, es decir, será impar, luego filtramos en el iterable que queramos\"\"\"\n",
    "filtro = list(filter(lambda elemento: elemento % 2 != 0, lista))\n",
    "\n",
    "print(filtro)"
   ]
  },
  {
   "cell_type": "markdown",
   "id": "f0551e5f",
   "metadata": {},
   "source": [
    "### Enunciado 20\n",
    "20. Para una lista con elementos tipo integer y string obtén una nueva lista sólo con los valores int. Usa la función filter()"
   ]
  },
  {
   "cell_type": "code",
   "execution_count": 80,
   "id": "063f497b",
   "metadata": {},
   "outputs": [
    {
     "name": "stdout",
     "output_type": "stream",
     "text": [
      "[5, 2]\n"
     ]
    }
   ],
   "source": [
    "lista = [\"hola\",5,\"noches\",2,\"buenas\"]\n",
    "\n",
    "def valor_int (lista):\n",
    "\n",
    "    return isinstance(lista, int) #Comprobamos el tipo de valor que tiene el elemento de la lista, en este caso integer\n",
    "                                    #Devuelve true o false\n",
    "resultado = filter(valor_int, lista) #Filtramos los elemenetos de la lista que cumplan el isintance\n",
    "print(list(resultado))\n"
   ]
  },
  {
   "cell_type": "markdown",
   "id": "31c2aeb3",
   "metadata": {},
   "source": [
    "### Enunciado 21\n",
    "21. Crea una función que calcule el cubo de un número dado mediante una función lambda"
   ]
  },
  {
   "cell_type": "code",
   "execution_count": 1,
   "id": "4ce7f170",
   "metadata": {},
   "outputs": [
    {
     "name": "stdout",
     "output_type": "stream",
     "text": [
      "El cubo de:  5 es 125\n"
     ]
    }
   ],
   "source": [
    "numero = 5\n",
    "\n",
    "cubo = lambda x: x**3\n",
    "\n",
    "resultado = cubo(numero)\n",
    "\n",
    "print (\"El cubo de: \", numero, \"es\", resultado)"
   ]
  },
  {
   "cell_type": "markdown",
   "id": "b45c1f0d",
   "metadata": {},
   "source": [
    "### Enunciado 22\n",
    "22. Dada una lista numérica, obtén el producto total de los valores de dicha lista.Usa la función reduce() ."
   ]
  },
  {
   "cell_type": "code",
   "execution_count": 3,
   "id": "37926584",
   "metadata": {},
   "outputs": [
    {
     "name": "stdout",
     "output_type": "stream",
     "text": [
      "6\n"
     ]
    }
   ],
   "source": [
    "from functools import reduce\n",
    "\n",
    "lista = [1,2,3]\n",
    "\n",
    "def producto(x,y):    \n",
    "    return x * y\n",
    "\n",
    "resultado = reduce(producto, lista)\n",
    "print(resultado)\n"
   ]
  },
  {
   "cell_type": "markdown",
   "id": "c1db53e4",
   "metadata": {},
   "source": [
    "### Enunciado 23\n",
    "23. Concatena una lista de palabras.Usa la función reduce() ."
   ]
  },
  {
   "cell_type": "code",
   "execution_count": 7,
   "id": "6add10e8",
   "metadata": {},
   "outputs": [
    {
     "name": "stdout",
     "output_type": "stream",
     "text": [
      "amor odio indiferencia\n"
     ]
    }
   ],
   "source": [
    "lista = [\"amor\",\"odio\",\"indiferencia\"]\n",
    "\n",
    "def concatenar (x,y):               #dentro de la funcion de dos variables le sumamos el espacio ya\n",
    "                                    #que no se nos da este en la lista\n",
    "      return x + \" \" + y\n",
    "\n",
    "resultado = (reduce(concatenar,lista))\n",
    "print(resultado)"
   ]
  },
  {
   "cell_type": "markdown",
   "id": "129c6e13",
   "metadata": {},
   "source": [
    "### Enunciado 24\n",
    "24. Calcula la diferencia total en los valores de una lista. Usa la función reduce() ."
   ]
  },
  {
   "cell_type": "code",
   "execution_count": 32,
   "id": "9d3ce6ef",
   "metadata": {},
   "outputs": [
    {
     "name": "stdout",
     "output_type": "stream",
     "text": [
      "Diferencia total: -2\n"
     ]
    }
   ],
   "source": [
    "# Lista de números\n",
    "numeros = [10, 5, 7]\n",
    "\n",
    "# Usamos reduce para restar todos los elementos en orden\n",
    "diferencia_total = reduce(lambda x, y: x - y, numeros)\n",
    "\n",
    "print(f\"Diferencia total: {diferencia_total}\")"
   ]
  },
  {
   "cell_type": "markdown",
   "id": "9d9fe6da",
   "metadata": {},
   "source": [
    "### Enunciado 25\n",
    "25. Crea una función que cuente el número de caracteres en una cadena de texto dada. "
   ]
  },
  {
   "cell_type": "code",
   "execution_count": 33,
   "id": "b6fba4b2",
   "metadata": {},
   "outputs": [
    {
     "name": "stdout",
     "output_type": "stream",
     "text": [
      "17\n"
     ]
    }
   ],
   "source": [
    "def contar_sin_espacios(cadena):\n",
    "    contador = 0\n",
    "    for caracter in cadena:\n",
    "        if caracter != \" \":\n",
    "            contador += 1\n",
    "    return contador\n",
    "\n",
    "# Ejemplo\n",
    "texto = \"Hola me llamo Adrian\"\n",
    "print(contar_sin_espacios(texto))"
   ]
  },
  {
   "cell_type": "markdown",
   "id": "a1cddabd",
   "metadata": {},
   "source": [
    "### Enunciado 26\n",
    "26. Crea una función lambda que calcule el resto de la división entre dos números dados."
   ]
  },
  {
   "cell_type": "code",
   "execution_count": 36,
   "id": "93ca0273",
   "metadata": {},
   "outputs": [
    {
     "name": "stdout",
     "output_type": "stream",
     "text": [
      "2\n"
     ]
    }
   ],
   "source": [
    "resto = lambda x, y: x % y\n",
    "\n",
    "print(resto(5,3))"
   ]
  },
  {
   "cell_type": "markdown",
   "id": "19d0c806",
   "metadata": {},
   "source": [
    "### Enunciado 27 (CORREGIDO)\n",
    "27. Crea una función que calcule el promedio de una lista de números."
   ]
  },
  {
   "cell_type": "code",
   "execution_count": 13,
   "id": "9653c3b0",
   "metadata": {},
   "outputs": [
    {
     "name": "stdout",
     "output_type": "stream",
     "text": [
      "El promedio es: 3.0\n"
     ]
    }
   ],
   "source": [
    "from functools import reduce\n",
    "\n",
    "lista = [1, 2, 3, 4, 5]\n",
    "\n",
    "\n",
    "promedio = (reduce(lambda x, y: x + y, lista)) / len(lista)\n",
    "\n",
    "\n",
    "print(f\"El promedio es: {promedio}\")"
   ]
  },
  {
   "cell_type": "markdown",
   "id": "192d2859",
   "metadata": {},
   "source": [
    "### Enunciado 28 (CORREGIDO)\n",
    "28. Crea una función que busque y devuelva el primer elemento duplicado en una lista dada."
   ]
  },
  {
   "cell_type": "code",
   "execution_count": 22,
   "id": "2650294e",
   "metadata": {},
   "outputs": [
    {
     "name": "stdout",
     "output_type": "stream",
     "text": [
      "3\n"
     ]
    }
   ],
   "source": [
    "lista = [1,2,3,4,\"hola\",3]\n",
    "\n",
    "def duplicado(listado):\n",
    "\n",
    "    for elemento in listado:\n",
    "        if listado.count(elemento) > 1:\n",
    "            return elemento\n",
    "\n",
    "    return None\n",
    "\n",
    "resultado = duplicado(lista)   \n",
    "print(resultado if resultado is not None else \"No hay duplicados\")"
   ]
  },
  {
   "cell_type": "markdown",
   "id": "fabba704",
   "metadata": {},
   "source": [
    "### Enunciado 29\n",
    "29. Crea una función que convierta una variable en una cadena de texto y enmascare todos los caracteres con el carácter '#', excepto los últimos cuatro."
   ]
  },
  {
   "cell_type": "code",
   "execution_count": 59,
   "id": "59c6cbdd",
   "metadata": {},
   "outputs": [
    {
     "name": "stdout",
     "output_type": "stream",
     "text": [
      "#######3455\n"
     ]
    }
   ],
   "source": [
    "variable1= \"Asdfgh\"\n",
    "variable2= 12345643455\n",
    "\n",
    "def convertidor(variable):\n",
    "\n",
    "    cadena = str(variable)\n",
    "\n",
    "    if len(cadena) <= 4:\n",
    "        return cadena\n",
    "    else:\n",
    "        return \"#\" * (len(cadena) - 4) + cadena[-4:] #Utilizamos la inexacion de strings para coger rangos, \n",
    "     \n",
    "                                                    #y empezamos el recuento de posicion por detrás\n",
    "print(convertidor(variable2))"
   ]
  },
  {
   "cell_type": "markdown",
   "id": "c7cfe436",
   "metadata": {},
   "source": [
    "### Enunciado 30\n",
    "30. Crea una función que determine si dos palabras son anagramas, es decir, si están formadas por las mismas letras pero en diferente orden."
   ]
  },
  {
   "cell_type": "code",
   "execution_count": null,
   "id": "43d84d59",
   "metadata": {},
   "outputs": [
    {
     "name": "stdout",
     "output_type": "stream",
     "text": [
      "No es un anagrama\n"
     ]
    }
   ],
   "source": [
    "palabra1 = \"ingenieRia\"\n",
    "palabra2 = \"Geinrianie\"\n",
    "\n",
    "def anagrama (num1,num2):\n",
    "                                #Creem una funció para comparar les paraules que ordenarem\n",
    "                                # i ho posarem a minuscules i així veure \n",
    "                                #Si son iguals o no en les mateixes condicions\n",
    "    a = sorted(num1.lower())\n",
    "    b = sorted(num2.lower())\n",
    "    if a == b:\n",
    "        return \"Es un anagrama\"\n",
    "    else:\n",
    "        return \"No es un anagrama\"\n",
    "\n",
    "print(anagrama(palabra1,palabra2))"
   ]
  },
  {
   "cell_type": "markdown",
   "id": "a414b86d",
   "metadata": {},
   "source": [
    "### Enunciado 31\n",
    "31. Crea una función que solicite al usuario ingresar una lista de nombres y luego solicite un nombre para buscar en esa lista. Si el nombre está en la lista, se imprime un mensaje indicando que fue encontrado, de lo contrario, se lanza una excepción."
   ]
  },
  {
   "cell_type": "code",
   "execution_count": null,
   "id": "6aa370b7",
   "metadata": {},
   "outputs": [
    {
     "name": "stdout",
     "output_type": "stream",
     "text": [
      "El nombre  adri ha sido encontrado\n"
     ]
    }
   ],
   "source": [
    "lista = input(\"Ingrese lista separada por espacios: \").split(\" \") #Amb split convertim en una llista per cada espai que posem\n",
    "nombre = input(\"Ingrese nombre buscado: \")\n",
    "\n",
    "class not_found(Exception):\n",
    "    pass\n",
    "\n",
    "\n",
    "try: \n",
    "    encontrado = False\n",
    "    for elementos in lista:\n",
    "        if elementos == nombre: #Recorremos todo el bucle, sin el brake el primer elemento que no coincidiese ya haria saltar la excepción pero sin revisar toda la lista.\n",
    "           print(\"El nombre \",elementos, \"ha sido encontrado\")\n",
    "           encontrado =True\n",
    "           break\n",
    "        \n",
    "    if not encontrado:\n",
    "        raise not_found(\"El nombre no ha sido encontrado.\")\n",
    "\n",
    "except not_found as error:\n",
    "    print(error)"
   ]
  },
  {
   "cell_type": "markdown",
   "id": "5535cede",
   "metadata": {},
   "source": [
    "### Enunciado 32\n",
    "32. Crea una función que tome un nombre completo y una lista de empleados, busque el nombre completo en la lista y devuelve el puesto del empleado si está en la lista, de lo contrario, devuelve un mensaje indicando que la persona no trabaja aquí."
   ]
  },
  {
   "cell_type": "code",
   "execution_count": 106,
   "id": "9f34929d",
   "metadata": {},
   "outputs": [
    {
     "name": "stdout",
     "output_type": "stream",
     "text": [
      "Juan Rodriguez trabaja como Mecanico.\n",
      "Pedro Perez no trabaja aquí.\n"
     ]
    }
   ],
   "source": [
    "\n",
    "\n",
    "\n",
    "class Empleado:\n",
    "\n",
    "    def __init__(self, nombre, apellido, posicion):\n",
    "        self.nombre = nombre\n",
    "        self.apellido = apellido\n",
    "        self.posicion = posicion\n",
    "    \n",
    "    def nombre_completo(self):\n",
    "        return f\"{self.nombre} {self.apellido}\"\n",
    "\n",
    "class Empresa:\n",
    "    \n",
    "    def __init__(self, empleados):\n",
    "        self.empleados = empleados\n",
    "\n",
    "    def buscar_puesto(self, nombre_completo):\n",
    "        for empleado in self.empleados:\n",
    "            if empleado.nombre_completo() == nombre_completo:\n",
    "                return f\"{nombre_completo} trabaja como {empleado.posicion}.\"\n",
    "        return f\"{nombre_completo} no trabaja aquí.\"\n",
    "    \n",
    "empleados = [Empleado(\"Juan\", \"Rodriguez\", \"Mecanico\"), Empleado(\"Juana\", \"Sanchez\", \"Ingeniera\"), Empleado(\"Joan\", \"Mata\", \"Manager\")]\n",
    "empresa = Empresa(empleados)\n",
    "\n",
    "    \n",
    "\n",
    "print(empresa.buscar_puesto(\"Juan Rodriguez\"))\n",
    "\n",
    "\n",
    "print(empresa.buscar_puesto(\"Pedro Perez\"))\n",
    "\n"
   ]
  },
  {
   "cell_type": "markdown",
   "id": "3119148b",
   "metadata": {},
   "source": [
    "### Enunciado 33\n",
    "33. Crea una función lambda que sume elementos correspondientes de dos listas dadas."
   ]
  },
  {
   "cell_type": "code",
   "execution_count": 107,
   "id": "9ca78ee6",
   "metadata": {},
   "outputs": [
    {
     "name": "stdout",
     "output_type": "stream",
     "text": [
      "[5, 7, 9]\n"
     ]
    }
   ],
   "source": [
    "\"\"\"Utilizamos la funcion zip la cual combinaremos los elementos de las dos listas con el mismo indice\"\"\"\n",
    "\n",
    "lista1 = [1, 2, 3]\n",
    "lista2 = [4, 5, 6]\n",
    "\n",
    "suma_listas = lambda lista1, lista2: [a + b for a, b in zip(lista1, lista2)]\n",
    "\n",
    "resultado = suma_listas(lista1, lista2)\n",
    "print(resultado)"
   ]
  },
  {
   "cell_type": "markdown",
   "id": "e4642885",
   "metadata": {},
   "source": [
    "### Enunciado 34\n",
    "34. Crea la clase Arbol , define un árbol genérico con un tronco y ramas como atributos. Los métodos disponibles son: crecer_tronco , nueva_rama , crecer_ramas , quitar_rama e info_arbol . El objetivo es implementar estos métodos para manipular la estructura del árbol. \n",
    "    1. Inicializar un árbol con un tronco de longitud 1 y una lista vacía de ramas.\n",
    "    2. Implementar el método crecer_tronco para aumentar la longitud del tronco en una unidad.\n",
    "    3. Implementar el método nueva_rama para agregar una nueva rama de longitud 1 a la lista de ramas.\n",
    "    4. Implementar el método crecer_ramas para aumentar en una unidad la longitud de todas las ramas existentes.\n",
    "    5. Implementar el método quitar_rama para eliminar una rama en una posición específica."
   ]
  },
  {
   "cell_type": "code",
   "execution_count": 130,
   "id": "a6587bac",
   "metadata": {},
   "outputs": [
    {
     "name": "stdout",
     "output_type": "stream",
     "text": [
      "Longitud del tronco: 2\n",
      "Número de ramas: 2\n",
      "Longitudes de las ramas: [2, 1]\n"
     ]
    }
   ],
   "source": [
    "class Arbol:\n",
    "    def __init__(self):\n",
    "        # 1. Inicializar tronco con longitud 1 y lista vacía de ramas\n",
    "        self.tronco = 1\n",
    "        self.ramas = []\n",
    "\n",
    "    def crecer_tronco(self):\n",
    "        # 2. Aumentar la longitud del tronco en 1\n",
    "        self.tronco += 1\n",
    "\n",
    "    def nueva_rama(self):\n",
    "        # 3. Agregar una nueva rama de longitud 1\n",
    "        self.ramas.append(1)\n",
    "\n",
    "    def crecer_ramas(self):\n",
    "        # 4. Aumentar en 1 la longitud de todas las ramas\n",
    "        self.ramas = [rama + 1 for rama in self.ramas]\n",
    "\n",
    "    def quitar_rama(self, posicion):\n",
    "        # 5. Eliminar la rama en la posición dada si es válida\n",
    "        if 0 <= posicion < len(self.ramas):\n",
    "            self.ramas.pop(posicion)\n",
    "        else:\n",
    "            print(\"Posición inválida para quitar rama.\")\n",
    "\n",
    "    def info_arbol(self):\n",
    "        # 6. Devolver información del árbol\n",
    "        return (f\"Longitud del tronco: {self.tronco}\\n\"\n",
    "                f\"Número de ramas: {len(self.ramas)}\\n\"\n",
    "                f\"Longitudes de las ramas: {self.ramas}\")\n",
    "\n",
    "\n",
    "# Caso de uso\n",
    "\n",
    "arbol = Arbol()             # 1. Crear árbol\n",
    "arbol.crecer_tronco()       # 2. Hacer crecer tronco una unidad\n",
    "arbol.nueva_rama()          # 3. Añadir una nueva rama\n",
    "arbol.crecer_ramas()        # 4. Hacer crecer todas las ramas una unidad\n",
    "arbol.nueva_rama()          # 5. Añadir dos nuevas ramas\n",
    "arbol.nueva_rama()\n",
    "arbol.quitar_rama(2)        # 6. Retirar la rama en la posición 2\n",
    "print(arbol.info_arbol())   # 7. Obtener información sobre el árbol\n",
    "\n",
    "\n"
   ]
  },
  {
   "cell_type": "markdown",
   "id": "be939356",
   "metadata": {},
   "source": [
    "### Enunciado 36\n",
    "36. Crea la clase UsuarioBanco ,representa a un usuario de un banco con su nombre, saldo y si tiene o no cuenta corriente. Proporciona métodos para realizar operaciones como retirar dinero, transferir dinero desde otro usuario y agregar dinero al saldo."
   ]
  },
  {
   "cell_type": "code",
   "execution_count": 48,
   "id": "6c29a549",
   "metadata": {},
   "outputs": [
    {
     "name": "stdout",
     "output_type": "stream",
     "text": [
      "Bob ha ingresado 20. El saldo actual es: 70\n"
     ]
    },
    {
     "ename": "Exception",
     "evalue": "Bob no tiene suficiente dinero para transferir.",
     "output_type": "error",
     "traceback": [
      "\u001b[31m---------------------------------------------------------------------------\u001b[39m",
      "\u001b[31mException\u001b[39m                                 Traceback (most recent call last)",
      "\u001b[36mCell\u001b[39m\u001b[36m \u001b[39m\u001b[32mIn[48]\u001b[39m\u001b[32m, line 46\u001b[39m\n\u001b[32m     43\u001b[39m Bob.agregar_dinero(\u001b[32m20\u001b[39m)\n\u001b[32m     45\u001b[39m \u001b[38;5;66;03m#Paso 3:\u001b[39;00m\n\u001b[32m---> \u001b[39m\u001b[32m46\u001b[39m \u001b[43mBob\u001b[49m\u001b[43m.\u001b[49m\u001b[43mtransferir_dinero\u001b[49m\u001b[43m(\u001b[49m\u001b[32;43m80\u001b[39;49m\u001b[43m,\u001b[49m\u001b[43mAlicia\u001b[49m\u001b[43m)\u001b[49m\n\u001b[32m     48\u001b[39m \u001b[38;5;66;03m#Paso 4:\u001b[39;00m\n\u001b[32m     49\u001b[39m Alicia.retirar_dinero(\u001b[32m50\u001b[39m)\n",
      "\u001b[36mCell\u001b[39m\u001b[36m \u001b[39m\u001b[32mIn[48]\u001b[39m\u001b[32m, line 22\u001b[39m, in \u001b[36mUsuarioBanco.transferir_dinero\u001b[39m\u001b[34m(self, cantidad_donada, persona)\u001b[39m\n\u001b[32m     19\u001b[39m \u001b[38;5;28;01mdef\u001b[39;00m\u001b[38;5;250m \u001b[39m\u001b[34mtransferir_dinero\u001b[39m(\u001b[38;5;28mself\u001b[39m, cantidad_donada, persona):\n\u001b[32m     21\u001b[39m     \u001b[38;5;28;01mif\u001b[39;00m cantidad_donada > \u001b[38;5;28mself\u001b[39m.saldo:\n\u001b[32m---> \u001b[39m\u001b[32m22\u001b[39m         \u001b[38;5;28;01mraise\u001b[39;00m \u001b[38;5;167;01mException\u001b[39;00m(\u001b[33mf\u001b[39m\u001b[33m\"\u001b[39m\u001b[38;5;132;01m{\u001b[39;00m\u001b[38;5;28mself\u001b[39m.nombre\u001b[38;5;132;01m}\u001b[39;00m\u001b[33m no tiene suficiente dinero para transferir.\u001b[39m\u001b[33m\"\u001b[39m)\n\u001b[32m     23\u001b[39m     \u001b[38;5;28;01melif\u001b[39;00m persona.c_corriente == \u001b[38;5;28;01mFalse\u001b[39;00m:\n\u001b[32m     24\u001b[39m         \u001b[38;5;28;01mraise\u001b[39;00m \u001b[38;5;167;01mException\u001b[39;00m(\u001b[33mf\u001b[39m\u001b[33m\"\u001b[39m\u001b[38;5;132;01m{\u001b[39;00mpersona.nombre\u001b[38;5;132;01m}\u001b[39;00m\u001b[33m no tiene cuenta corriente. Por lo tanto \u001b[39m\u001b[38;5;132;01m{\u001b[39;00m\u001b[38;5;28mself\u001b[39m.nombre\u001b[38;5;132;01m}\u001b[39;00m\u001b[33m no puede transferir dinero.\u001b[39m\u001b[33m\"\u001b[39m)\n",
      "\u001b[31mException\u001b[39m: Bob no tiene suficiente dinero para transferir."
     ]
    }
   ],
   "source": [
    "class UsuarioBanco: \n",
    "\n",
    "                    #Recordar meter todos los metodos dentro de la clase. \n",
    "\n",
    "    def __init__(self, nombre, saldo, c_corriente):\n",
    "        self.nombre = nombre\n",
    "        self.saldo = saldo\n",
    "        self.c_corriente = c_corriente\n",
    "\n",
    "    def retirar_dinero(self, cantidad_restada):\n",
    "        \n",
    "        if cantidad_restada > self.saldo:\n",
    "            raise Exception(f\"{self.nombre} no tiene suficiente dinero para retirar.\")\n",
    "        \n",
    "        self.saldo -= cantidad_restada\n",
    "\n",
    "        print(f\"{self.nombre} ha retirado {cantidad_restada}. El saldo actual es: {self.saldo}\")    \n",
    "\n",
    "    def transferir_dinero(self, cantidad_donada, persona):\n",
    "        \n",
    "        if cantidad_donada > self.saldo:\n",
    "            raise Exception(f\"{self.nombre} no tiene suficiente dinero para transferir.\")\n",
    "        elif persona.c_corriente == False:\n",
    "            raise Exception(f\"{persona.nombre} no tiene cuenta corriente. Por lo tanto {self.nombre} no puede transferir dinero.\")\n",
    "        \n",
    "        self.saldo -= cantidad_donada\n",
    "        persona.saldo += cantidad_donada    #Recordar poner el objeto instanciado pero también el atributo!\n",
    "\n",
    "        print(f\"{self.nombre} ha donado {cantidad_donada} a {persona.nombre}. Su saldo actual es: {self.saldo}\")\n",
    "        print(f\"El saldo actual de {persona.nombre} será de {persona.saldo}\")\n",
    "\n",
    "    def agregar_dinero(self, cantidad_sumada):\n",
    "    \n",
    "        self.saldo += cantidad_sumada\n",
    "\n",
    "        print(f\"{self.nombre} ha ingresado {cantidad_sumada}. El saldo actual es: {self.saldo}\") \n",
    "\n",
    "#Paso 1:\n",
    "Alicia = UsuarioBanco(\"Alicia\", 100, True)\n",
    "Bob = UsuarioBanco(\"Bob\", 50, True)\n",
    "\n",
    "#Paso 2:\n",
    "Bob.agregar_dinero(20)\n",
    "\n",
    "#Paso 3:\n",
    "Bob.transferir_dinero(80,Alicia)\n",
    "\n",
    "#Paso 4:\n",
    "Alicia.retirar_dinero(50)\n",
    "\n",
    "\n",
    "\n",
    "\"\"\"\n",
    "Probando código y todas sus posibilidades:\n",
    "\n",
    "#Instanciamos los objetos, en este caso las personas\n",
    "Adrian = UsuarioBanco(\"Adrian\", 10000, True)\n",
    "Mireia = UsuarioBanco(\"Mireia\", 15000, True)\n",
    "Ainhoa = UsuarioBanco(\"Ainhoa\", 10000, False)\n",
    "   \n",
    "#Para envitar todo el traceback del error que saltará con la Exception, creamos el try:\n",
    "try:\n",
    "    Mireia.transferir_dinero(15000, Ainhoa)\n",
    "except Exception as mensaje_error:\n",
    "    print(mensaje_error) \"\"\""
   ]
  },
  {
   "cell_type": "markdown",
   "id": "687c47a4",
   "metadata": {},
   "source": [
    "### Enunciado 37\n",
    "37. Crea una función llamada procesar_texto que procesa un texto según la opción especificada: contar_palabras , reemplazar_palabras , eliminar_palabra . Estas opciones son otras funciones que tenemos que definir primero y llamar dentro de la función procesar_texto .\n",
    "    1. Crear una función contar_palabras para contar el número de veces que aparece cada palabra en el texto. Tiene\n",
    "    que devolver un diccionario.\n",
    "    2. Crear una función reemplazar_palabras para remplazar una palabra_original del texto por una palabra_nueva . Tiene\n",
    "    que devolver el texto con el remplazo de palabras.\n",
    "    3. Crear una función eliminar_palabra para eliminar una palabra del texto. Tiene que devolver el texto con la palabra\n",
    "    eliminada.\n",
    "    4. Crear la función procesar_texto que tome un texto, una opción(entre \"contar\", \"reemplazar\", \"eliminar\") y un\n",
    "    número de argumentos variable según la opción indicada."
   ]
  },
  {
   "cell_type": "code",
   "execution_count": null,
   "id": "8d0d3727",
   "metadata": {},
   "outputs": [
    {
     "name": "stdout",
     "output_type": "stream",
     "text": [
      "{'hola': 1, 'soy': 2, 'adrian,': 1, 'de': 2, 'girona': 2, 'y': 1, 'trabajo': 1, 'en': 2, 'riells': 1, 'la': 1, 'provincia': 1}\n",
      "hola soy adrian, soy de barcelona y trabajo en riells en la provincia de barcelona\n",
      "soy adrian, soy de girona y trabajo en riells en la provincia de girona\n"
     ]
    }
   ],
   "source": [
    "class ProcesadorTexto:\n",
    "    def __init__(self, texto):\n",
    "        self.texto = texto\n",
    "\n",
    "    def contar_palabras(self): #Dividimos el texto utilizando split (espacios por fdefectos) y guardamos junto con sus repeticiones\n",
    "        palabras = self.texto.split()\n",
    "        contador = {}\n",
    "        for palabra in palabras:\n",
    "            contador[palabra] = contador.get(palabra, 0) + 1\n",
    "        return contador\n",
    "\n",
    "    def reemplazar_palabras(self, palabra_original, palabra_nueva):\n",
    "        return self.texto.replace(palabra_original, palabra_nueva)\n",
    "\n",
    "    def eliminar_palabras(self, palabra_eliminar):\n",
    "        palabras = self.texto.split()\n",
    "\n",
    "        # Creamos una nueva lista con todas las palabras excepto la que queremos eliminar\n",
    "\n",
    "\n",
    "        palabras_filtradas = [p for p in palabras if p != palabra_eliminar]\n",
    "\n",
    "        # Unimos la lista en un nuevo texto sin la palabra eliminada\n",
    "\n",
    "        return ' '.join(palabras_filtradas)\n",
    "\n",
    "    def procesar_texto(self, opcion, *args):\n",
    "        if opcion == \"contar\":\n",
    "            return self.contar_palabras()\n",
    "\n",
    "        # Si la opción es \"reemplazar\", revisa que se pasen 2 argumentos y llama a reemplazar_palabras()\n",
    "\n",
    "        elif opcion == \"reemplazar\":\n",
    "            if len(args) != 2:\n",
    "                raise ValueError(\"Para 'reemplazar' se necesitan 2 argumentos: palabra_original y palabra_nueva.\")\n",
    "            return self.reemplazar_palabras(args[0], args[1])\n",
    "\n",
    "        # Si la opción es \"eliminar\", revisa que se pase 1 argumento y llama a eliminar_palabras()\n",
    "      \n",
    "\n",
    "        elif opcion == \"eliminar\":\n",
    "            if len(args) != 1:\n",
    "                raise ValueError(\"Para 'eliminar' se necesita 1 argumento: palabra_a_eliminar.\")\n",
    "            return self.eliminar_palabras(args[0])\n",
    "\n",
    "        else:\n",
    "            raise ValueError(\"Opción no válida. Usa 'contar', 'reemplazar' o 'eliminar'.\")\n",
    "\n",
    "texto = \"hola soy adrian, soy de girona y trabajo en riells en la provincia de girona\"\n",
    "\n",
    "procesador = ProcesadorTexto(texto)\n",
    "\n",
    "# Contar palabras\n",
    "print(procesador.procesar_texto(\"contar\"))\n",
    "\n",
    "# Reemplazar palabra\n",
    "print(procesador.procesar_texto(\"reemplazar\", \"girona\", \"barcelona\"))\n",
    "\n",
    "# Eliminar palabra\n",
    "print(procesador.procesar_texto(\"eliminar\", \"hola\"))\n"
   ]
  },
  {
   "cell_type": "markdown",
   "id": "147e4f48",
   "metadata": {},
   "source": [
    "### Enunciado 38\n",
    "38. Genera un programa que nos diga si es de noche, de día o tarde según la hora proporcionada por el usuario."
   ]
  },
  {
   "cell_type": "code",
   "execution_count": 132,
   "id": "68d9f06f",
   "metadata": {},
   "outputs": [
    {
     "name": "stdout",
     "output_type": "stream",
     "text": [
      "Por favor, introduce un número entero válido para la hora.\n"
     ]
    }
   ],
   "source": [
    "\n",
    "def determinar_momento_del_dia(hora):\n",
    "    if 6 <= hora < 12:\n",
    "        return \"Es de día (mañana).\"\n",
    "    elif 12 <= hora < 18:\n",
    "        return \"Es de tarde.\"\n",
    "    elif 18 <= hora < 24:\n",
    "        return \"Es de noche.\"\n",
    "    elif 0 <= hora < 6:\n",
    "        return \"Es de noche.\"\n",
    "    else:\n",
    "        return \"Hora inválida.\"\n",
    "\n",
    "try:\n",
    "    hora_usuario = int(input(\"Introduce la hora en formato 24h (0-23): \"))\n",
    "    resultado = determinar_momento_del_dia(hora_usuario)\n",
    "    print(resultado)\n",
    "except ValueError:\n",
    "    print(\"Por favor, introduce un número entero válido para la hora.\")\n",
    "\n"
   ]
  },
  {
   "cell_type": "markdown",
   "id": "69e91d0c",
   "metadata": {},
   "source": [
    "### Enunciado 39\n",
    "39. Escribe un programa que determine qué calificación en texto tiene un alumno en base a su calificación numérica. Las reglas de calificación son:"
   ]
  },
  {
   "cell_type": "code",
   "execution_count": 134,
   "id": "c327deec",
   "metadata": {},
   "outputs": [
    {
     "name": "stdout",
     "output_type": "stream",
     "text": [
      "La calificación es: Insuficiente\n"
     ]
    }
   ],
   "source": [
    "def calificacion_texto(nota):\n",
    "    if 0 <= nota <= 69:\n",
    "        return \"Insuficiente\"\n",
    "    elif 70 <= nota <= 79:\n",
    "        return \"Bien\"\n",
    "    elif 80 <= nota <= 89:\n",
    "        return \"Muy bien\"\n",
    "    elif 90 <= nota <= 100:\n",
    "        return \"Excelente\"\n",
    "    else:\n",
    "        return \"Calificación inválida\"\n",
    "\n",
    "try:\n",
    "    nota = int(input(\"Introduce la calificación del alumno (0-100): \"))\n",
    "    resultado = calificacion_texto(nota)\n",
    "    print(f\"La calificación es: {resultado}\")\n",
    "except ValueError:\n",
    "    print(\"Por favor, introduce un número válido.\")"
   ]
  },
  {
   "cell_type": "markdown",
   "id": "a4f22abb",
   "metadata": {},
   "source": [
    "### Enunciado 40\n",
    "40. Escribe una función que tome dos parámetros: figura (una cadena que puede ser \"rectangulo\" , \"circulo\" o \"triangulo\" ) y datos (una tupla con los datos necesarios para calcular el área de la figura)."
   ]
  },
  {
   "cell_type": "code",
   "execution_count": 136,
   "id": "5345171a",
   "metadata": {},
   "outputs": [
    {
     "name": "stdout",
     "output_type": "stream",
     "text": [
      "15\n",
      "50.26548245743669\n",
      "6.0\n"
     ]
    }
   ],
   "source": [
    "import math\n",
    "\n",
    "def calcular_area(figura, datos):\n",
    "    figura = figura.lower()\n",
    "    if figura == \"rectangulo\":\n",
    "        # datos = (base, altura)\n",
    "        if len(datos) != 2:\n",
    "            return \"Datos insuficientes para rectángulo\"\n",
    "        base, altura = datos\n",
    "        return base * altura\n",
    "    elif figura == \"circulo\":\n",
    "        # datos = (radio,)\n",
    "        if len(datos) != 1:\n",
    "            return \"Datos insuficientes para círculo\"\n",
    "        radio = datos[0]\n",
    "        return math.pi * (radio ** 2)\n",
    "    elif figura == \"triangulo\":\n",
    "        # datos = (base, altura)\n",
    "        if len(datos) != 2:\n",
    "            return \"Datos insuficientes para triángulo\"\n",
    "        base, altura = datos\n",
    "        return (base * altura) / 2\n",
    "    else:\n",
    "        return \"Figura no soportada\"\n",
    "\n",
    "# Ejemplos de uso\n",
    "print(calcular_area(\"rectangulo\", (5, 3)))   \n",
    "print(calcular_area(\"circulo\", (4,)))        \n",
    "print(calcular_area(\"triangulo\", (6, 2)))    \n"
   ]
  },
  {
   "cell_type": "markdown",
   "id": "deb9fdaa",
   "metadata": {},
   "source": [
    "### Enunciado 41\n",
    "41. En este ejercicio, se te pedirá que escribas un programa en Python que utilice condicionales para determinar el monto final de una compra en una tienda en línea, después de aplicar un descuento. El programa debe hacer lo siguiente:\n",
    "    1. Solicita al usuario que ingrese el precio original de un artículo.\n",
    "    2. Pregunta al usuario si tiene un cupón de descuento (respuesta sí o no).\n",
    "    3. Si el usuario responde que sí, solicita que ingrese el valor del cupón de descuento.\n",
    "    4. Aplica el descuento al precio original del artículo, siempre y cuando el valor del cupón sea válido (es decir, mayor a cero). Por ejemplo, descuento de 15€.\n",
    "    5. Muestra el precio final de la compra, teniendo en cuenta el descuento aplicado o sin él.\n",
    "    6. Recuerda utilizar estructuras de control de flujo como if, elif y else para llevar a cabo estas acciones en tu\n",
    "    programa de Python."
   ]
  },
  {
   "cell_type": "code",
   "execution_count": null,
   "id": "48e4d3ef",
   "metadata": {},
   "outputs": [
    {
     "name": "stdout",
     "output_type": "stream",
     "text": [
      "Ingrese un número válido.\n",
      "Ingrese un número válido.\n",
      "Ingrese un número válido.\n",
      "Responda con 'si' o 'no'.\n",
      "Responda con 'si' o 'no'.\n",
      "Ingrese un número válido.\n",
      "Ingrese un número válido.\n",
      "Ingrese un número válido.\n",
      "Ingrese un número válido.\n",
      "Ingrese un número válido.\n",
      "Ingrese un número válido.\n",
      "Ingrese un número válido.\n",
      "Ingrese un número válido.\n",
      "Ingrese un número válido.\n",
      "Ingrese un número válido.\n"
     ]
    }
   ],
   "source": [
    "def pedir_numero(cantidad):\n",
    "    while True:\n",
    "        try:\n",
    "            return float(input(cantidad))\n",
    "        except ValueError:\n",
    "            print(\"Ingrese un número válido.\")\n",
    "\n",
    "def pedir_cupon(descuento):\n",
    "    while True:\n",
    "        respuesta = input(descuento)\n",
    "        if respuesta == \"si\":\n",
    "            return True\n",
    "        elif respuesta == \"no\":\n",
    "            return False\n",
    "        else:\n",
    "            print(\"Responda con 'si' o 'no'.\")\n",
    "\n",
    "#Pedimos el precio con validación\n",
    "precio_original = pedir_numero(\"Ingrese el precio original del artículo (€): \")\n",
    "\n",
    "#Preguntamos si tiene cupón (con flexibilidad)\n",
    "cupon_descuento = pedir_cupon(\"Tiene cupón de descuento? (si/no): \")\n",
    "\n",
    "#Si tiene cupón, pedimos el valor y comprobamos\n",
    "if cupon_descuento:\n",
    "    valor_cupon = pedir_numero(\"Ingrese el valor del cupón (€): \")\n",
    "\n",
    "    if valor_cupon > 0:\n",
    "        precio_rebajado = precio_original - valor_cupon\n",
    "        print(f\"El precio final con descuento es: {precio_rebajado}€\")\n",
    "    else:\n",
    "        print(\"El cupón no es válido (debe ser mayor que 0).\")\n",
    "else:\n",
    "    print(f\"No dispone de descuento. El precio sigue siendo: {precio_original:}€\")\n",
    "\n"
   ]
  }
 ],
 "metadata": {
  "kernelspec": {
   "display_name": "Python 3",
   "language": "python",
   "name": "python3"
  },
  "language_info": {
   "codemirror_mode": {
    "name": "ipython",
    "version": 3
   },
   "file_extension": ".py",
   "mimetype": "text/x-python",
   "name": "python",
   "nbconvert_exporter": "python",
   "pygments_lexer": "ipython3",
   "version": "3.13.5"
  }
 },
 "nbformat": 4,
 "nbformat_minor": 5
}
